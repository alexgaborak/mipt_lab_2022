{
 "cells": [
  {
   "cell_type": "code",
   "execution_count": null,
   "id": "5a8fc045",
   "metadata": {},
   "outputs": [],
   "source": [
    "import numpy as np\n",
    "import pandas as pd\n",
    "import matplotlib.pyplot as plt"
   ]
  },
  {
   "cell_type": "code",
   "execution_count": null,
   "id": "e946f2c4",
   "metadata": {},
   "outputs": [],
   "source": [
    "data = pd.read_csv(\"data.csv\")"
   ]
  },
  {
   "cell_type": "code",
   "execution_count": null,
   "id": "2dca490e",
   "metadata": {},
   "outputs": [],
   "source": [
    "plt.figure(figsize=(8, 6), dpi=160)\n",
    "plt.grid(True)\n",
    "plt.title(r\"$U(I)$\")\n",
    "plt.xlabel(r\"$I, мА$\", fontsize=10)\n",
    "plt.ylabel(r\"$U, мВ$\", fontsize=10)\n",
    "\n",
    "\n",
    "l = [20, 30, 50]\n",
    "styles = ['-', '--', '-.']\n",
    "eps_x = 0.2 / 100\n",
    "eps_y = 0.2 / 100\n",
    "\n",
    "coeff_matrix = np.empty((3, 2), dtype=float)\n",
    "plot_list = [None] * 3\n",
    "\n",
    "for i in range(3):\n",
    "    X = data_np[:, 2*i + 1]\n",
    "    Y = data_np[:, 2*i]\n",
    "    X = X[~np.isnan(X)]\n",
    "    Y = Y[~np.isnan(Y)]\n",
    "    \n",
    "    X_err = eps_x * X\n",
    "    Y_err = np.sqrt((eps_y * Y) ** 2 + 4 ** 2)\n",
    "    plt.errorbar(X, Y, xerr=X_err, yerr=Y_err, linestyle='',\n",
    "                                 ecolor='black', elinewidth=1, zorder=32)\n",
    "    \n",
    "    a, b = np.polyfit(X, Y, deg=1)\n",
    "    coeff_matrix[i, 0] = a\n",
    "    coeff_matrix[i, 1] = b\n",
    "    \n",
    "    S_x = np.std(X)\n",
    "    S_y = np.std(Y)\n",
    "    N = len(X)\n",
    "#     R_xy = np.sum(X*Y) / len(X) - np.mean(X) * np.mean(Y)\n",
    "    err_a = 2 * np.sqrt((S_y ** 2 / S_x ** 2 - a ** 2) / (N - 2))\n",
    "    err_b = err_a * np.sqrt(S_x ** 2 + np.mean(X) ** 2)\n",
    "    plot_list[i], = plt.plot([-10, (600 - b) / a], [b - 10*a, 600], linewidth=1, alpha=0.5, color='black',\n",
    "                             linestyle=styles[i], label=f\"$l={l[i]}см$\")\n",
    "    print(f\"l = {l[i]}cm, U=({a} ± {err_a:.2}) I + ({b} ± {err_b:.2})\")\n",
    "line_labels = [r\"$L=20см, U=(2.102\\pm0.008)\\Omega I + (-1\\pm1)мВ$\",\n",
    "               r\"$L=30см, U=(3.199\\pm0.011)\\Omega I + (-2\\pm1)мВ$\",\n",
    "               r\"$L=50см, U=(5.357\\pm0.031)\\Omega I + (-2\\pm2)мВ$\"]\n",
    "plt.legend(handles=plot_list, loc=4, labels=line_labels, fontsize=13)\n",
    "print(coeff_matrix)\n",
    "plt.savefig('../pictures/graf2.png')\n",
    "plt.show()"
   ]
  }
 ],
 "metadata": {
  "kernelspec": {
   "display_name": "Python 3 (ipykernel)",
   "language": "python",
   "name": "python3"
  },
  "language_info": {
   "codemirror_mode": {
    "name": "ipython",
    "version": 3
   },
   "file_extension": ".py",
   "mimetype": "text/x-python",
   "name": "python",
   "nbconvert_exporter": "python",
   "pygments_lexer": "ipython3",
   "version": "3.11.0"
  }
 },
 "nbformat": 4,
 "nbformat_minor": 5
}
