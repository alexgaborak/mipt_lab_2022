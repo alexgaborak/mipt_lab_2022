{
 "cells": [
  {
   "cell_type": "code",
   "execution_count": 1,
   "id": "1cc177d0",
   "metadata": {},
   "outputs": [],
   "source": [
    "import numpy as np\n",
    "import pandas as pd\n",
    "import matplotlib.pyplot as plt"
   ]
  },
  {
   "cell_type": "code",
   "execution_count": 2,
   "id": "5700673f",
   "metadata": {},
   "outputs": [
    {
     "data": {
      "text/html": [
       "<div>\n",
       "<style scoped>\n",
       "    .dataframe tbody tr th:only-of-type {\n",
       "        vertical-align: middle;\n",
       "    }\n",
       "\n",
       "    .dataframe tbody tr th {\n",
       "        vertical-align: top;\n",
       "    }\n",
       "\n",
       "    .dataframe thead th {\n",
       "        text-align: right;\n",
       "    }\n",
       "</style>\n",
       "<table border=\"1\" class=\"dataframe\">\n",
       "  <thead>\n",
       "    <tr style=\"text-align: right;\">\n",
       "      <th></th>\n",
       "      <th>1</th>\n",
       "      <th>2</th>\n",
       "      <th>3</th>\n",
       "      <th>4</th>\n",
       "      <th>5</th>\n",
       "      <th>6</th>\n",
       "      <th>7</th>\n",
       "      <th>8</th>\n",
       "      <th>9</th>\n",
       "      <th>10</th>\n",
       "    </tr>\n",
       "  </thead>\n",
       "  <tbody>\n",
       "    <tr>\n",
       "      <th>0</th>\n",
       "      <td>38</td>\n",
       "      <td>24</td>\n",
       "      <td>45</td>\n",
       "      <td>26</td>\n",
       "      <td>33</td>\n",
       "      <td>21</td>\n",
       "      <td>30</td>\n",
       "      <td>21</td>\n",
       "      <td>26</td>\n",
       "      <td>18</td>\n",
       "    </tr>\n",
       "    <tr>\n",
       "      <th>1</th>\n",
       "      <td>27</td>\n",
       "      <td>33</td>\n",
       "      <td>32</td>\n",
       "      <td>36</td>\n",
       "      <td>31</td>\n",
       "      <td>26</td>\n",
       "      <td>36</td>\n",
       "      <td>16</td>\n",
       "      <td>25</td>\n",
       "      <td>23</td>\n",
       "    </tr>\n",
       "    <tr>\n",
       "      <th>2</th>\n",
       "      <td>29</td>\n",
       "      <td>32</td>\n",
       "      <td>27</td>\n",
       "      <td>28</td>\n",
       "      <td>29</td>\n",
       "      <td>27</td>\n",
       "      <td>29</td>\n",
       "      <td>30</td>\n",
       "      <td>27</td>\n",
       "      <td>28</td>\n",
       "    </tr>\n",
       "    <tr>\n",
       "      <th>3</th>\n",
       "      <td>19</td>\n",
       "      <td>29</td>\n",
       "      <td>26</td>\n",
       "      <td>26</td>\n",
       "      <td>20</td>\n",
       "      <td>21</td>\n",
       "      <td>34</td>\n",
       "      <td>31</td>\n",
       "      <td>30</td>\n",
       "      <td>30</td>\n",
       "    </tr>\n",
       "    <tr>\n",
       "      <th>4</th>\n",
       "      <td>31</td>\n",
       "      <td>28</td>\n",
       "      <td>24</td>\n",
       "      <td>29</td>\n",
       "      <td>21</td>\n",
       "      <td>21</td>\n",
       "      <td>28</td>\n",
       "      <td>29</td>\n",
       "      <td>25</td>\n",
       "      <td>29</td>\n",
       "    </tr>\n",
       "    <tr>\n",
       "      <th>5</th>\n",
       "      <td>29</td>\n",
       "      <td>33</td>\n",
       "      <td>20</td>\n",
       "      <td>31</td>\n",
       "      <td>31</td>\n",
       "      <td>26</td>\n",
       "      <td>40</td>\n",
       "      <td>22</td>\n",
       "      <td>28</td>\n",
       "      <td>24</td>\n",
       "    </tr>\n",
       "    <tr>\n",
       "      <th>6</th>\n",
       "      <td>18</td>\n",
       "      <td>48</td>\n",
       "      <td>19</td>\n",
       "      <td>33</td>\n",
       "      <td>35</td>\n",
       "      <td>31</td>\n",
       "      <td>21</td>\n",
       "      <td>34</td>\n",
       "      <td>26</td>\n",
       "      <td>32</td>\n",
       "    </tr>\n",
       "    <tr>\n",
       "      <th>7</th>\n",
       "      <td>23</td>\n",
       "      <td>27</td>\n",
       "      <td>33</td>\n",
       "      <td>40</td>\n",
       "      <td>28</td>\n",
       "      <td>36</td>\n",
       "      <td>32</td>\n",
       "      <td>40</td>\n",
       "      <td>31</td>\n",
       "      <td>24</td>\n",
       "    </tr>\n",
       "    <tr>\n",
       "      <th>8</th>\n",
       "      <td>24</td>\n",
       "      <td>30</td>\n",
       "      <td>26</td>\n",
       "      <td>22</td>\n",
       "      <td>31</td>\n",
       "      <td>42</td>\n",
       "      <td>27</td>\n",
       "      <td>40</td>\n",
       "      <td>34</td>\n",
       "      <td>26</td>\n",
       "    </tr>\n",
       "    <tr>\n",
       "      <th>9</th>\n",
       "      <td>29</td>\n",
       "      <td>25</td>\n",
       "      <td>25</td>\n",
       "      <td>32</td>\n",
       "      <td>25</td>\n",
       "      <td>29</td>\n",
       "      <td>23</td>\n",
       "      <td>33</td>\n",
       "      <td>23</td>\n",
       "      <td>28</td>\n",
       "    </tr>\n",
       "    <tr>\n",
       "      <th>10</th>\n",
       "      <td>30</td>\n",
       "      <td>27</td>\n",
       "      <td>37</td>\n",
       "      <td>36</td>\n",
       "      <td>31</td>\n",
       "      <td>28</td>\n",
       "      <td>28</td>\n",
       "      <td>35</td>\n",
       "      <td>28</td>\n",
       "      <td>33</td>\n",
       "    </tr>\n",
       "    <tr>\n",
       "      <th>11</th>\n",
       "      <td>22</td>\n",
       "      <td>35</td>\n",
       "      <td>28</td>\n",
       "      <td>32</td>\n",
       "      <td>39</td>\n",
       "      <td>32</td>\n",
       "      <td>28</td>\n",
       "      <td>15</td>\n",
       "      <td>24</td>\n",
       "      <td>22</td>\n",
       "    </tr>\n",
       "    <tr>\n",
       "      <th>12</th>\n",
       "      <td>34</td>\n",
       "      <td>21</td>\n",
       "      <td>21</td>\n",
       "      <td>26</td>\n",
       "      <td>28</td>\n",
       "      <td>32</td>\n",
       "      <td>22</td>\n",
       "      <td>25</td>\n",
       "      <td>31</td>\n",
       "      <td>26</td>\n",
       "    </tr>\n",
       "    <tr>\n",
       "      <th>13</th>\n",
       "      <td>20</td>\n",
       "      <td>39</td>\n",
       "      <td>30</td>\n",
       "      <td>21</td>\n",
       "      <td>16</td>\n",
       "      <td>25</td>\n",
       "      <td>28</td>\n",
       "      <td>22</td>\n",
       "      <td>28</td>\n",
       "      <td>26</td>\n",
       "    </tr>\n",
       "    <tr>\n",
       "      <th>14</th>\n",
       "      <td>17</td>\n",
       "      <td>22</td>\n",
       "      <td>28</td>\n",
       "      <td>27</td>\n",
       "      <td>25</td>\n",
       "      <td>34</td>\n",
       "      <td>34</td>\n",
       "      <td>28</td>\n",
       "      <td>27</td>\n",
       "      <td>39</td>\n",
       "    </tr>\n",
       "    <tr>\n",
       "      <th>15</th>\n",
       "      <td>25</td>\n",
       "      <td>28</td>\n",
       "      <td>28</td>\n",
       "      <td>28</td>\n",
       "      <td>28</td>\n",
       "      <td>35</td>\n",
       "      <td>32</td>\n",
       "      <td>28</td>\n",
       "      <td>27</td>\n",
       "      <td>28</td>\n",
       "    </tr>\n",
       "    <tr>\n",
       "      <th>16</th>\n",
       "      <td>27</td>\n",
       "      <td>19</td>\n",
       "      <td>26</td>\n",
       "      <td>35</td>\n",
       "      <td>29</td>\n",
       "      <td>23</td>\n",
       "      <td>31</td>\n",
       "      <td>28</td>\n",
       "      <td>23</td>\n",
       "      <td>33</td>\n",
       "    </tr>\n",
       "    <tr>\n",
       "      <th>17</th>\n",
       "      <td>30</td>\n",
       "      <td>26</td>\n",
       "      <td>34</td>\n",
       "      <td>31</td>\n",
       "      <td>40</td>\n",
       "      <td>35</td>\n",
       "      <td>22</td>\n",
       "      <td>28</td>\n",
       "      <td>22</td>\n",
       "      <td>26</td>\n",
       "    </tr>\n",
       "    <tr>\n",
       "      <th>18</th>\n",
       "      <td>23</td>\n",
       "      <td>30</td>\n",
       "      <td>29</td>\n",
       "      <td>32</td>\n",
       "      <td>38</td>\n",
       "      <td>31</td>\n",
       "      <td>24</td>\n",
       "      <td>25</td>\n",
       "      <td>32</td>\n",
       "      <td>26</td>\n",
       "    </tr>\n",
       "    <tr>\n",
       "      <th>19</th>\n",
       "      <td>34</td>\n",
       "      <td>32</td>\n",
       "      <td>33</td>\n",
       "      <td>32</td>\n",
       "      <td>24</td>\n",
       "      <td>20</td>\n",
       "      <td>28</td>\n",
       "      <td>29</td>\n",
       "      <td>22</td>\n",
       "      <td>27</td>\n",
       "    </tr>\n",
       "  </tbody>\n",
       "</table>\n",
       "</div>"
      ],
      "text/plain": [
       "     1   2   3   4   5   6   7   8   9  10\n",
       "0   38  24  45  26  33  21  30  21  26  18\n",
       "1   27  33  32  36  31  26  36  16  25  23\n",
       "2   29  32  27  28  29  27  29  30  27  28\n",
       "3   19  29  26  26  20  21  34  31  30  30\n",
       "4   31  28  24  29  21  21  28  29  25  29\n",
       "5   29  33  20  31  31  26  40  22  28  24\n",
       "6   18  48  19  33  35  31  21  34  26  32\n",
       "7   23  27  33  40  28  36  32  40  31  24\n",
       "8   24  30  26  22  31  42  27  40  34  26\n",
       "9   29  25  25  32  25  29  23  33  23  28\n",
       "10  30  27  37  36  31  28  28  35  28  33\n",
       "11  22  35  28  32  39  32  28  15  24  22\n",
       "12  34  21  21  26  28  32  22  25  31  26\n",
       "13  20  39  30  21  16  25  28  22  28  26\n",
       "14  17  22  28  27  25  34  34  28  27  39\n",
       "15  25  28  28  28  28  35  32  28  27  28\n",
       "16  27  19  26  35  29  23  31  28  23  33\n",
       "17  30  26  34  31  40  35  22  28  22  26\n",
       "18  23  30  29  32  38  31  24  25  32  26\n",
       "19  34  32  33  32  24  20  28  29  22  27"
      ]
     },
     "execution_count": 2,
     "metadata": {},
     "output_type": "execute_result"
    }
   ],
   "source": [
    "data_table = pd.read_csv('data.csv')\n",
    "data_table"
   ]
  },
  {
   "cell_type": "code",
   "execution_count": 3,
   "id": "9e299aa4",
   "metadata": {},
   "outputs": [
    {
     "name": "stdout",
     "output_type": "stream",
     "text": [
      "\\begin{tabular}{lrrrrrrrrrr}\n",
      " & 1 & 2 & 3 & 4 & 5 & 6 & 7 & 8 & 9 & 10 \\\\\n",
      "0 & 38 & 24 & 45 & 26 & 33 & 21 & 30 & 21 & 26 & 18 \\\\\n",
      "1 & 27 & 33 & 32 & 36 & 31 & 26 & 36 & 16 & 25 & 23 \\\\\n",
      "2 & 29 & 32 & 27 & 28 & 29 & 27 & 29 & 30 & 27 & 28 \\\\\n",
      "3 & 19 & 29 & 26 & 26 & 20 & 21 & 34 & 31 & 30 & 30 \\\\\n",
      "4 & 31 & 28 & 24 & 29 & 21 & 21 & 28 & 29 & 25 & 29 \\\\\n",
      "5 & 29 & 33 & 20 & 31 & 31 & 26 & 40 & 22 & 28 & 24 \\\\\n",
      "6 & 18 & 48 & 19 & 33 & 35 & 31 & 21 & 34 & 26 & 32 \\\\\n",
      "7 & 23 & 27 & 33 & 40 & 28 & 36 & 32 & 40 & 31 & 24 \\\\\n",
      "8 & 24 & 30 & 26 & 22 & 31 & 42 & 27 & 40 & 34 & 26 \\\\\n",
      "9 & 29 & 25 & 25 & 32 & 25 & 29 & 23 & 33 & 23 & 28 \\\\\n",
      "10 & 30 & 27 & 37 & 36 & 31 & 28 & 28 & 35 & 28 & 33 \\\\\n",
      "11 & 22 & 35 & 28 & 32 & 39 & 32 & 28 & 15 & 24 & 22 \\\\\n",
      "12 & 34 & 21 & 21 & 26 & 28 & 32 & 22 & 25 & 31 & 26 \\\\\n",
      "13 & 20 & 39 & 30 & 21 & 16 & 25 & 28 & 22 & 28 & 26 \\\\\n",
      "14 & 17 & 22 & 28 & 27 & 25 & 34 & 34 & 28 & 27 & 39 \\\\\n",
      "15 & 25 & 28 & 28 & 28 & 28 & 35 & 32 & 28 & 27 & 28 \\\\\n",
      "16 & 27 & 19 & 26 & 35 & 29 & 23 & 31 & 28 & 23 & 33 \\\\\n",
      "17 & 30 & 26 & 34 & 31 & 40 & 35 & 22 & 28 & 22 & 26 \\\\\n",
      "18 & 23 & 30 & 29 & 32 & 38 & 31 & 24 & 25 & 32 & 26 \\\\\n",
      "19 & 34 & 32 & 33 & 32 & 24 & 20 & 28 & 29 & 22 & 27 \\\\\n",
      "\\end{tabular}\n",
      "\n"
     ]
    }
   ],
   "source": [
    "print(data_table.style.to_latex())"
   ]
  },
  {
   "cell_type": "code",
   "execution_count": 5,
   "id": "9f4aae3e",
   "metadata": {},
   "outputs": [],
   "source": [
    "data_20 = data_table.to_numpy().flatten()\n",
    "\n",
    "values_10 = np.array([i for i in range(3, 24)] + [25, 27, 28])\n",
    "counts_10 = np.array([1, 2, 1, 2, 5, 8, 17, 34, 32,\n",
    "                      40, 38, 43, 33, 31, 36, 28, 12, 18,\n",
    "                      10, 4, 1, 1, 2, 1])\n",
    "data_10 = []\n",
    "for i in range(len(values_10)):\n",
    "    data_10 += [values_10[i]] * counts_10[i]\n",
    "data_10 = np.array(data_10)"
   ]
  },
  {
   "cell_type": "code",
   "execution_count": 6,
   "id": "c27c9547",
   "metadata": {},
   "outputs": [
    {
     "data": {
      "text/html": [
       "<div>\n",
       "<style scoped>\n",
       "    .dataframe tbody tr th:only-of-type {\n",
       "        vertical-align: middle;\n",
       "    }\n",
       "\n",
       "    .dataframe tbody tr th {\n",
       "        vertical-align: top;\n",
       "    }\n",
       "\n",
       "    .dataframe thead th {\n",
       "        text-align: right;\n",
       "    }\n",
       "</style>\n",
       "<table border=\"1\" class=\"dataframe\">\n",
       "  <thead>\n",
       "    <tr style=\"text-align: right;\">\n",
       "      <th></th>\n",
       "      <th>0</th>\n",
       "      <th>1</th>\n",
       "      <th>2</th>\n",
       "      <th>3</th>\n",
       "      <th>4</th>\n",
       "      <th>5</th>\n",
       "      <th>6</th>\n",
       "      <th>7</th>\n",
       "      <th>8</th>\n",
       "      <th>9</th>\n",
       "      <th>...</th>\n",
       "      <th>14</th>\n",
       "      <th>15</th>\n",
       "      <th>16</th>\n",
       "      <th>17</th>\n",
       "      <th>18</th>\n",
       "      <th>19</th>\n",
       "      <th>20</th>\n",
       "      <th>21</th>\n",
       "      <th>22</th>\n",
       "      <th>23</th>\n",
       "    </tr>\n",
       "  </thead>\n",
       "  <tbody>\n",
       "    <tr>\n",
       "      <th>0</th>\n",
       "      <td>3</td>\n",
       "      <td>4</td>\n",
       "      <td>5</td>\n",
       "      <td>6</td>\n",
       "      <td>7</td>\n",
       "      <td>8</td>\n",
       "      <td>9</td>\n",
       "      <td>10</td>\n",
       "      <td>11</td>\n",
       "      <td>12</td>\n",
       "      <td>...</td>\n",
       "      <td>17</td>\n",
       "      <td>18</td>\n",
       "      <td>19</td>\n",
       "      <td>20</td>\n",
       "      <td>21</td>\n",
       "      <td>22</td>\n",
       "      <td>23</td>\n",
       "      <td>25</td>\n",
       "      <td>27</td>\n",
       "      <td>28</td>\n",
       "    </tr>\n",
       "    <tr>\n",
       "      <th>1</th>\n",
       "      <td>1</td>\n",
       "      <td>2</td>\n",
       "      <td>1</td>\n",
       "      <td>2</td>\n",
       "      <td>5</td>\n",
       "      <td>8</td>\n",
       "      <td>17</td>\n",
       "      <td>34</td>\n",
       "      <td>32</td>\n",
       "      <td>40</td>\n",
       "      <td>...</td>\n",
       "      <td>36</td>\n",
       "      <td>28</td>\n",
       "      <td>12</td>\n",
       "      <td>18</td>\n",
       "      <td>10</td>\n",
       "      <td>4</td>\n",
       "      <td>1</td>\n",
       "      <td>1</td>\n",
       "      <td>2</td>\n",
       "      <td>1</td>\n",
       "    </tr>\n",
       "  </tbody>\n",
       "</table>\n",
       "<p>2 rows × 24 columns</p>\n",
       "</div>"
      ],
      "text/plain": [
       "   0   1   2   3   4   5   6   7   8   9   ...  14  15  16  17  18  19  20  \\\n",
       "0   3   4   5   6   7   8   9  10  11  12  ...  17  18  19  20  21  22  23   \n",
       "1   1   2   1   2   5   8  17  34  32  40  ...  36  28  12  18  10   4   1   \n",
       "\n",
       "   21  22  23  \n",
       "0  25  27  28  \n",
       "1   1   2   1  \n",
       "\n",
       "[2 rows x 24 columns]"
      ]
     },
     "execution_count": 6,
     "metadata": {},
     "output_type": "execute_result"
    }
   ],
   "source": [
    "hist_10 = pd.DataFrame(np.vstack((values_10, counts_10)))\n",
    "hist_10\n"
   ]
  },
  {
   "cell_type": "code",
   "execution_count": 8,
   "id": "f8a9b130",
   "metadata": {},
   "outputs": [],
   "source": [
    "def to_latex(s):\n",
    "    return ' & '.join([*map(str, list(s))])"
   ]
  },
  {
   "cell_type": "code",
   "execution_count": 9,
   "id": "c7e536da",
   "metadata": {},
   "outputs": [],
   "source": [
    "values_20, counts_20 = np.unique(data_20, return_counts=True)"
   ]
  },
  {
   "cell_type": "code",
   "execution_count": 10,
   "id": "03f2f74d",
   "metadata": {},
   "outputs": [
    {
     "data": {
      "text/plain": [
       "(array([39, 41, 42, 43, 44, 46, 47, 48, 49, 50, 51, 52, 53, 54, 55, 56, 57,\n",
       "        58, 59, 60, 61, 62, 63, 64, 65, 66, 67, 68, 69, 71, 72, 73, 75]),\n",
       " array([1, 2, 1, 1, 2, 2, 2, 4, 2, 3, 4, 5, 3, 6, 7, 5, 8, 2, 6, 6, 4, 4,\n",
       "        2, 1, 3, 4, 1, 1, 1, 2, 1, 3, 1], dtype=int64))"
      ]
     },
     "execution_count": 10,
     "metadata": {},
     "output_type": "execute_result"
    }
   ],
   "source": [
    "data_40 = np.empty(100, dtype=int)\n",
    "for i in range(100):\n",
    "    data_40[i] = data_20[2*i] + data_20[2*i + 1]\n",
    "values_40, counts_40 = np.unique(data_40, return_counts=True)\n",
    "values_40, counts_40"
   ]
  },
  {
   "cell_type": "code",
   "execution_count": 11,
   "id": "8d9da7c0",
   "metadata": {},
   "outputs": [
    {
     "name": "stdout",
     "output_type": "stream",
     "text": [
      "63 & 64 & 65 & 66 & 67 & 68 & 69 & 71 & 72 & 73 & 75\n",
      "2 & 1 & 3 & 4 & 1 & 1 & 1 & 2 & 1 & 3 & 1\n",
      "0.02 & 0.01 & 0.03 & 0.04 & 0.01 & 0.01 & 0.01 & 0.02 & 0.01 & 0.03 & 0.01\n"
     ]
    }
   ],
   "source": [
    "a, b = 22, 33\n",
    "print(to_latex(values_40[a:b]))\n",
    "print(to_latex(counts_40[a:b]))\n",
    "print(to_latex(counts_40[a:b]/100))"
   ]
  },
  {
   "cell_type": "code",
   "execution_count": 12,
   "id": "69938888",
   "metadata": {},
   "outputs": [
    {
     "data": {
      "text/plain": [
       "56.71"
      ]
     },
     "execution_count": 12,
     "metadata": {},
     "output_type": "execute_result"
    }
   ],
   "source": [
    "np.sum(data_40)/100"
   ]
  },
  {
   "cell_type": "code",
   "execution_count": 13,
   "id": "c2d59843",
   "metadata": {},
   "outputs": [
    {
     "data": {
      "text/plain": [
       "14.1775"
      ]
     },
     "execution_count": 13,
     "metadata": {},
     "output_type": "execute_result"
    }
   ],
   "source": [
    "np.sum(data_10)/400"
   ]
  },
  {
   "cell_type": "code",
   "execution_count": 14,
   "id": "feb0209a",
   "metadata": {},
   "outputs": [
    {
     "data": {
      "image/png": "[encoded data removed]",
      "text/plain": [
       "<Figure size 2000x1600 with 2 Axes>"
      ]
     },
     "metadata": {},
     "output_type": "display_data"
    }
   ],
   "source": [
    "fig, ax1 = plt.subplots()\n",
    "fig.set_figheight(16)\n",
    "fig.set_figwidth(20)\n",
    "\n",
    "color = 'tab:red'\n",
    "ax1.set_xlabel('$n$  (10с)', fontsize=30, color=color)\n",
    "ax1.set_ylabel(r'$\\omega$', fontsize=30)\n",
    "ax1.hist(data_10, np.arange(0, 31), alpha=0.5, density=True, label='10с', color=color)\n",
    "\n",
    "ax1.tick_params(axis='x', labelcolor=color,  labelsize=30)\n",
    "ax1.tick_params(axis='y', labelcolor='#000000',  labelsize=30)\n",
    "plt.legend(loc='upper left', fontsize=30)\n",
    "\n",
    "color = 'tab:blue'\n",
    "ax2 = ax1.twiny()\n",
    "ax2.set_xlabel('$n$  (40с)', fontsize=30, color=color)\n",
    "\n",
    "ax2.hist(data_40, np.arange(0, 121), alpha=0.5, density=True, label='40с')\n",
    "ax2.tick_params(axis='x', labelcolor=color, labelsize=30)\n",
    "fig.tight_layout()\n",
    "plt.legend(loc='upper right', fontsize=30)\n",
    "plt.savefig('../pictures/histogram.png')\n",
    "plt.show()"
   ]
  },
  {
   "cell_type": "code",
   "execution_count": 15,
   "id": "ed7be822",
   "metadata": {},
   "outputs": [],
   "source": [
    "data_40_trans = np.abs(data_40 - np.mean(data_40))\n",
    "data_10_trans = np.abs(data_10 - np.mean(data_10))"
   ]
  },
  {
   "cell_type": "code",
   "execution_count": 16,
   "id": "281f8001",
   "metadata": {},
   "outputs": [
    {
     "data": {
      "text/plain": [
       "(281, 385)"
      ]
     },
     "execution_count": 16,
     "metadata": {},
     "output_type": "execute_result"
    }
   ],
   "source": [
    "np.sum(data_10_trans < np.std(data_10)), np.sum(data_10_trans < 2*np.std(data_10))"
   ]
  },
  {
   "cell_type": "code",
   "execution_count": 17,
   "id": "8e1a47a9",
   "metadata": {},
   "outputs": [
    {
     "data": {
      "text/plain": [
       "(68, 93)"
      ]
     },
     "execution_count": 17,
     "metadata": {},
     "output_type": "execute_result"
    }
   ],
   "source": [
    "np.sum(data_40_trans < np.std(data_40)), np.sum(data_40_trans < 2*np.std(data_40))"
   ]
  },
  {
   "cell_type": "code",
   "execution_count": 18,
   "id": "e73825d9",
   "metadata": {},
   "outputs": [
    {
     "data": {
      "text/plain": [
       "0.9625"
      ]
     },
     "execution_count": 18,
     "metadata": {},
     "output_type": "execute_result"
    }
   ],
   "source": [
    "385/400"
   ]
  },
  {
   "cell_type": "code",
   "execution_count": 19,
   "id": "08b8c4e1",
   "metadata": {},
   "outputs": [
    {
     "data": {
      "text/plain": [
       "15"
      ]
     },
     "execution_count": 19,
     "metadata": {},
     "output_type": "execute_result"
    }
   ],
   "source": [
    "np.sum(data_10_trans > 2 * np.std(data_10))"
   ]
  },
  {
   "cell_type": "code",
   "execution_count": null,
   "id": "8d95231b",
   "metadata": {},
   "outputs": [],
   "source": []
  }
 ],
 "metadata": {
  "kernelspec": {
   "display_name": "Python 3 (ipykernel)",
   "language": "python",
   "name": "python3"
  },
  "language_info": {
   "codemirror_mode": {
    "name": "ipython",
    "version": 3
   },
   "file_extension": ".py",
   "mimetype": "text/x-python",
   "name": "python",
   "nbconvert_exporter": "python",
   "pygments_lexer": "ipython3",
   "version": "3.10.4"
  }
 },
 "nbformat": 4,
 "nbformat_minor": 5
}
