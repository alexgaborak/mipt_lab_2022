{
 "cells": [
  {
   "cell_type": "code",
   "execution_count": 2,
   "id": "c44e6695",
   "metadata": {},
   "outputs": [],
   "source": [
    "import numpy as np\n",
    "import pandas as pd\n",
    "import matplotlib.pyplot as plt"
   ]
  },
  {
   "cell_type": "markdown",
   "id": "4e619ad7",
   "metadata": {},
   "source": [
    "## Обработка 20 с"
   ]
  },
  {
   "cell_type": "code",
   "execution_count": 3,
   "id": "19ecff2e",
   "metadata": {},
   "outputs": [],
   "source": [
    "data = pd.read_csv(\"data.csv\")"
   ]
  },
  {
   "cell_type": "code",
   "execution_count": 4,
   "id": "371e2212",
   "metadata": {},
   "outputs": [
    {
     "data": {
      "text/html": [
       "<div>\n",
       "<style scoped>\n",
       "    .dataframe tbody tr th:only-of-type {\n",
       "        vertical-align: middle;\n",
       "    }\n",
       "\n",
       "    .dataframe tbody tr th {\n",
       "        vertical-align: top;\n",
       "    }\n",
       "\n",
       "    .dataframe thead th {\n",
       "        text-align: right;\n",
       "    }\n",
       "</style>\n",
       "<table border=\"1\" class=\"dataframe\">\n",
       "  <thead>\n",
       "    <tr style=\"text-align: right;\">\n",
       "      <th></th>\n",
       "      <th>1</th>\n",
       "      <th>2</th>\n",
       "      <th>3</th>\n",
       "      <th>4</th>\n",
       "      <th>5</th>\n",
       "      <th>6</th>\n",
       "      <th>7</th>\n",
       "      <th>8</th>\n",
       "      <th>9</th>\n",
       "      <th>10</th>\n",
       "    </tr>\n",
       "  </thead>\n",
       "  <tbody>\n",
       "    <tr>\n",
       "      <th>0</th>\n",
       "      <td>27</td>\n",
       "      <td>26</td>\n",
       "      <td>29</td>\n",
       "      <td>22</td>\n",
       "      <td>22</td>\n",
       "      <td>26</td>\n",
       "      <td>28</td>\n",
       "      <td>30</td>\n",
       "      <td>19</td>\n",
       "      <td>22</td>\n",
       "    </tr>\n",
       "    <tr>\n",
       "      <th>1</th>\n",
       "      <td>22</td>\n",
       "      <td>19</td>\n",
       "      <td>26</td>\n",
       "      <td>27</td>\n",
       "      <td>25</td>\n",
       "      <td>31</td>\n",
       "      <td>22</td>\n",
       "      <td>22</td>\n",
       "      <td>29</td>\n",
       "      <td>28</td>\n",
       "    </tr>\n",
       "    <tr>\n",
       "      <th>2</th>\n",
       "      <td>29</td>\n",
       "      <td>40</td>\n",
       "      <td>34</td>\n",
       "      <td>32</td>\n",
       "      <td>26</td>\n",
       "      <td>29</td>\n",
       "      <td>23</td>\n",
       "      <td>28</td>\n",
       "      <td>16</td>\n",
       "      <td>22</td>\n",
       "    </tr>\n",
       "    <tr>\n",
       "      <th>3</th>\n",
       "      <td>30</td>\n",
       "      <td>32</td>\n",
       "      <td>22</td>\n",
       "      <td>30</td>\n",
       "      <td>16</td>\n",
       "      <td>28</td>\n",
       "      <td>15</td>\n",
       "      <td>24</td>\n",
       "      <td>25</td>\n",
       "      <td>24</td>\n",
       "    </tr>\n",
       "    <tr>\n",
       "      <th>4</th>\n",
       "      <td>27</td>\n",
       "      <td>19</td>\n",
       "      <td>25</td>\n",
       "      <td>29</td>\n",
       "      <td>24</td>\n",
       "      <td>24</td>\n",
       "      <td>42</td>\n",
       "      <td>25</td>\n",
       "      <td>28</td>\n",
       "      <td>27</td>\n",
       "    </tr>\n",
       "    <tr>\n",
       "      <th>5</th>\n",
       "      <td>36</td>\n",
       "      <td>35</td>\n",
       "      <td>28</td>\n",
       "      <td>23</td>\n",
       "      <td>17</td>\n",
       "      <td>27</td>\n",
       "      <td>25</td>\n",
       "      <td>22</td>\n",
       "      <td>25</td>\n",
       "      <td>23</td>\n",
       "    </tr>\n",
       "    <tr>\n",
       "      <th>6</th>\n",
       "      <td>35</td>\n",
       "      <td>31</td>\n",
       "      <td>29</td>\n",
       "      <td>32</td>\n",
       "      <td>28</td>\n",
       "      <td>37</td>\n",
       "      <td>33</td>\n",
       "      <td>15</td>\n",
       "      <td>22</td>\n",
       "      <td>31</td>\n",
       "    </tr>\n",
       "    <tr>\n",
       "      <th>7</th>\n",
       "      <td>27</td>\n",
       "      <td>21</td>\n",
       "      <td>31</td>\n",
       "      <td>23</td>\n",
       "      <td>34</td>\n",
       "      <td>30</td>\n",
       "      <td>31</td>\n",
       "      <td>18</td>\n",
       "      <td>22</td>\n",
       "      <td>18</td>\n",
       "    </tr>\n",
       "    <tr>\n",
       "      <th>8</th>\n",
       "      <td>33</td>\n",
       "      <td>19</td>\n",
       "      <td>27</td>\n",
       "      <td>24</td>\n",
       "      <td>21</td>\n",
       "      <td>34</td>\n",
       "      <td>25</td>\n",
       "      <td>28</td>\n",
       "      <td>18</td>\n",
       "      <td>27</td>\n",
       "    </tr>\n",
       "    <tr>\n",
       "      <th>9</th>\n",
       "      <td>30</td>\n",
       "      <td>26</td>\n",
       "      <td>37</td>\n",
       "      <td>28</td>\n",
       "      <td>32</td>\n",
       "      <td>24</td>\n",
       "      <td>21</td>\n",
       "      <td>36</td>\n",
       "      <td>30</td>\n",
       "      <td>23</td>\n",
       "    </tr>\n",
       "    <tr>\n",
       "      <th>10</th>\n",
       "      <td>23</td>\n",
       "      <td>24</td>\n",
       "      <td>21</td>\n",
       "      <td>26</td>\n",
       "      <td>24</td>\n",
       "      <td>24</td>\n",
       "      <td>24</td>\n",
       "      <td>15</td>\n",
       "      <td>30</td>\n",
       "      <td>19</td>\n",
       "    </tr>\n",
       "    <tr>\n",
       "      <th>11</th>\n",
       "      <td>25</td>\n",
       "      <td>28</td>\n",
       "      <td>25</td>\n",
       "      <td>26</td>\n",
       "      <td>21</td>\n",
       "      <td>24</td>\n",
       "      <td>22</td>\n",
       "      <td>34</td>\n",
       "      <td>29</td>\n",
       "      <td>29</td>\n",
       "    </tr>\n",
       "    <tr>\n",
       "      <th>12</th>\n",
       "      <td>28</td>\n",
       "      <td>35</td>\n",
       "      <td>31</td>\n",
       "      <td>28</td>\n",
       "      <td>25</td>\n",
       "      <td>26</td>\n",
       "      <td>29</td>\n",
       "      <td>33</td>\n",
       "      <td>24</td>\n",
       "      <td>19</td>\n",
       "    </tr>\n",
       "    <tr>\n",
       "      <th>13</th>\n",
       "      <td>28</td>\n",
       "      <td>30</td>\n",
       "      <td>27</td>\n",
       "      <td>29</td>\n",
       "      <td>15</td>\n",
       "      <td>32</td>\n",
       "      <td>18</td>\n",
       "      <td>19</td>\n",
       "      <td>24</td>\n",
       "      <td>25</td>\n",
       "    </tr>\n",
       "    <tr>\n",
       "      <th>14</th>\n",
       "      <td>24</td>\n",
       "      <td>18</td>\n",
       "      <td>32</td>\n",
       "      <td>21</td>\n",
       "      <td>38</td>\n",
       "      <td>26</td>\n",
       "      <td>28</td>\n",
       "      <td>25</td>\n",
       "      <td>33</td>\n",
       "      <td>24</td>\n",
       "    </tr>\n",
       "    <tr>\n",
       "      <th>15</th>\n",
       "      <td>32</td>\n",
       "      <td>19</td>\n",
       "      <td>22</td>\n",
       "      <td>26</td>\n",
       "      <td>33</td>\n",
       "      <td>28</td>\n",
       "      <td>27</td>\n",
       "      <td>24</td>\n",
       "      <td>27</td>\n",
       "      <td>31</td>\n",
       "    </tr>\n",
       "    <tr>\n",
       "      <th>16</th>\n",
       "      <td>20</td>\n",
       "      <td>26</td>\n",
       "      <td>27</td>\n",
       "      <td>23</td>\n",
       "      <td>32</td>\n",
       "      <td>23</td>\n",
       "      <td>30</td>\n",
       "      <td>20</td>\n",
       "      <td>25</td>\n",
       "      <td>26</td>\n",
       "    </tr>\n",
       "    <tr>\n",
       "      <th>17</th>\n",
       "      <td>15</td>\n",
       "      <td>30</td>\n",
       "      <td>38</td>\n",
       "      <td>27</td>\n",
       "      <td>28</td>\n",
       "      <td>26</td>\n",
       "      <td>22</td>\n",
       "      <td>34</td>\n",
       "      <td>22</td>\n",
       "      <td>34</td>\n",
       "    </tr>\n",
       "    <tr>\n",
       "      <th>18</th>\n",
       "      <td>25</td>\n",
       "      <td>20</td>\n",
       "      <td>25</td>\n",
       "      <td>25</td>\n",
       "      <td>30</td>\n",
       "      <td>26</td>\n",
       "      <td>19</td>\n",
       "      <td>31</td>\n",
       "      <td>17</td>\n",
       "      <td>20</td>\n",
       "    </tr>\n",
       "    <tr>\n",
       "      <th>19</th>\n",
       "      <td>26</td>\n",
       "      <td>24</td>\n",
       "      <td>27</td>\n",
       "      <td>30</td>\n",
       "      <td>19</td>\n",
       "      <td>25</td>\n",
       "      <td>25</td>\n",
       "      <td>21</td>\n",
       "      <td>26</td>\n",
       "      <td>29</td>\n",
       "    </tr>\n",
       "  </tbody>\n",
       "</table>\n",
       "</div>"
      ],
      "text/plain": [
       "     1   2   3   4   5   6   7   8   9  10\n",
       "0   27  26  29  22  22  26  28  30  19  22\n",
       "1   22  19  26  27  25  31  22  22  29  28\n",
       "2   29  40  34  32  26  29  23  28  16  22\n",
       "3   30  32  22  30  16  28  15  24  25  24\n",
       "4   27  19  25  29  24  24  42  25  28  27\n",
       "5   36  35  28  23  17  27  25  22  25  23\n",
       "6   35  31  29  32  28  37  33  15  22  31\n",
       "7   27  21  31  23  34  30  31  18  22  18\n",
       "8   33  19  27  24  21  34  25  28  18  27\n",
       "9   30  26  37  28  32  24  21  36  30  23\n",
       "10  23  24  21  26  24  24  24  15  30  19\n",
       "11  25  28  25  26  21  24  22  34  29  29\n",
       "12  28  35  31  28  25  26  29  33  24  19\n",
       "13  28  30  27  29  15  32  18  19  24  25\n",
       "14  24  18  32  21  38  26  28  25  33  24\n",
       "15  32  19  22  26  33  28  27  24  27  31\n",
       "16  20  26  27  23  32  23  30  20  25  26\n",
       "17  15  30  38  27  28  26  22  34  22  34\n",
       "18  25  20  25  25  30  26  19  31  17  20\n",
       "19  26  24  27  30  19  25  25  21  26  29"
      ]
     },
     "execution_count": 4,
     "metadata": {},
     "output_type": "execute_result"
    }
   ],
   "source": [
    "data"
   ]
  },
  {
   "cell_type": "code",
   "execution_count": null,
   "id": "0978cb3d",
   "metadata": {
    "scrolled": true
   },
   "outputs": [],
   "source": [
    "data.index = np.arange(0, 200, 10)\n",
    "data"
   ]
  },
  {
   "cell_type": "code",
   "execution_count": 5,
   "id": "44ab8bfd",
   "metadata": {},
   "outputs": [
    {
     "data": {
      "text/plain": [
       "array([[27, 26, 29, 22, 22, 26, 28, 30, 19, 22],\n",
       "       [22, 19, 26, 27, 25, 31, 22, 22, 29, 28],\n",
       "       [29, 40, 34, 32, 26, 29, 23, 28, 16, 22],\n",
       "       [30, 32, 22, 30, 16, 28, 15, 24, 25, 24],\n",
       "       [27, 19, 25, 29, 24, 24, 42, 25, 28, 27],\n",
       "       [36, 35, 28, 23, 17, 27, 25, 22, 25, 23],\n",
       "       [35, 31, 29, 32, 28, 37, 33, 15, 22, 31],\n",
       "       [27, 21, 31, 23, 34, 30, 31, 18, 22, 18],\n",
       "       [33, 19, 27, 24, 21, 34, 25, 28, 18, 27],\n",
       "       [30, 26, 37, 28, 32, 24, 21, 36, 30, 23],\n",
       "       [23, 24, 21, 26, 24, 24, 24, 15, 30, 19],\n",
       "       [25, 28, 25, 26, 21, 24, 22, 34, 29, 29],\n",
       "       [28, 35, 31, 28, 25, 26, 29, 33, 24, 19],\n",
       "       [28, 30, 27, 29, 15, 32, 18, 19, 24, 25],\n",
       "       [24, 18, 32, 21, 38, 26, 28, 25, 33, 24],\n",
       "       [32, 19, 22, 26, 33, 28, 27, 24, 27, 31],\n",
       "       [20, 26, 27, 23, 32, 23, 30, 20, 25, 26],\n",
       "       [15, 30, 38, 27, 28, 26, 22, 34, 22, 34],\n",
       "       [25, 20, 25, 25, 30, 26, 19, 31, 17, 20],\n",
       "       [26, 24, 27, 30, 19, 25, 25, 21, 26, 29]], dtype=int64)"
      ]
     },
     "execution_count": 5,
     "metadata": {},
     "output_type": "execute_result"
    }
   ],
   "source": [
    "data_np = data.to_numpy()\n",
    "data_np"
   ]
  },
  {
   "cell_type": "code",
   "execution_count": 29,
   "id": "99510f08",
   "metadata": {},
   "outputs": [
    {
     "data": {
      "text/plain": [
       "20"
      ]
     },
     "execution_count": 29,
     "metadata": {},
     "output_type": "execute_result"
    }
   ],
   "source": [
    "len(data_np)"
   ]
  },
  {
   "cell_type": "code",
   "execution_count": 52,
   "id": "c5d45e08",
   "metadata": {
    "scrolled": false
   },
   "outputs": [
    {
     "name": "stdout",
     "output_type": "stream",
     "text": [
      "200\n"
     ]
    },
    {
     "data": {
      "text/plain": [
       "[[15, 0.025],\n",
       " [16, 0.01],\n",
       " [17, 0.01],\n",
       " [18, 0.025],\n",
       " [19, 0.05],\n",
       " [20, 0.02],\n",
       " [21, 0.035],\n",
       " [22, 0.075],\n",
       " [23, 0.04],\n",
       " [24, 0.085],\n",
       " [25, 0.09],\n",
       " [26, 0.08],\n",
       " [27, 0.07],\n",
       " [28, 0.08],\n",
       " [29, 0.055],\n",
       " [30, 0.06],\n",
       " [31, 0.04],\n",
       " [32, 0.04],\n",
       " [33, 0.025],\n",
       " [34, 0.03],\n",
       " [35, 0.015],\n",
       " [36, 0.01],\n",
       " [37, 0.01],\n",
       " [38, 0.01],\n",
       " [40, 0.005],\n",
       " [42, 0.005]]"
      ]
     },
     "execution_count": 52,
     "metadata": {},
     "output_type": "execute_result"
    }
   ],
   "source": [
    "n = 0\n",
    "values = set()\n",
    "all = []\n",
    "pairs = []\n",
    "for i in range(len(data_np)):\n",
    "    for j in range(len(data_np[i])):\n",
    "        n+=1\n",
    "        values.add(data_np[i][j])\n",
    "        all.append(data_np[i][j])        \n",
    "print(len(all))\n",
    "N_2 = 0\n",
    "for i in values:\n",
    "    N_2 += all.count(i)\n",
    "for i in values:\n",
    "    pairs.append([i, all.count(i) / N_2])\n",
    "# for i in values:\n",
    "#     print(i, all.count(i))\n",
    "pairs"
   ]
  },
  {
   "cell_type": "code",
   "execution_count": 14,
   "id": "11ed0def",
   "metadata": {},
   "outputs": [],
   "source": [
    "def sigma_sep(array, average):\n",
    "    sum_square = 0\n",
    "    num = len(array)\n",
    "\n",
    "    for n in array:\n",
    "        sum_square += (n - average)**2\n",
    "\n",
    "    return np.sqrt(sum_square / num)      \n"
   ]
  },
  {
   "cell_type": "code",
   "execution_count": 26,
   "id": "70053d50",
   "metadata": {},
   "outputs": [
    {
     "data": {
      "text/plain": [
       "5.197285349102933"
      ]
     },
     "execution_count": 26,
     "metadata": {},
     "output_type": "execute_result"
    }
   ],
   "source": [
    "sigma_sep(all, 26.115)"
   ]
  },
  {
   "cell_type": "markdown",
   "id": "146eb062",
   "metadata": {},
   "source": [
    "## Обработка 40 с"
   ]
  },
  {
   "cell_type": "code",
   "execution_count": 16,
   "id": "f90b7ab8",
   "metadata": {},
   "outputs": [
    {
     "data": {
      "text/html": [
       "<div>\n",
       "<style scoped>\n",
       "    .dataframe tbody tr th:only-of-type {\n",
       "        vertical-align: middle;\n",
       "    }\n",
       "\n",
       "    .dataframe tbody tr th {\n",
       "        vertical-align: top;\n",
       "    }\n",
       "\n",
       "    .dataframe thead th {\n",
       "        text-align: right;\n",
       "    }\n",
       "</style>\n",
       "<table border=\"1\" class=\"dataframe\">\n",
       "  <thead>\n",
       "    <tr style=\"text-align: right;\">\n",
       "      <th></th>\n",
       "      <th>1</th>\n",
       "      <th>2</th>\n",
       "      <th>3</th>\n",
       "      <th>4</th>\n",
       "      <th>5</th>\n",
       "      <th>6</th>\n",
       "      <th>7</th>\n",
       "      <th>8</th>\n",
       "      <th>9</th>\n",
       "      <th>10</th>\n",
       "    </tr>\n",
       "  </thead>\n",
       "  <tbody>\n",
       "    <tr>\n",
       "      <th>0</th>\n",
       "      <td>53</td>\n",
       "      <td>51</td>\n",
       "      <td>48</td>\n",
       "      <td>58</td>\n",
       "      <td>41</td>\n",
       "      <td>47</td>\n",
       "      <td>47</td>\n",
       "      <td>48</td>\n",
       "      <td>39</td>\n",
       "      <td>49</td>\n",
       "    </tr>\n",
       "    <tr>\n",
       "      <th>1</th>\n",
       "      <td>41</td>\n",
       "      <td>53</td>\n",
       "      <td>56</td>\n",
       "      <td>44</td>\n",
       "      <td>57</td>\n",
       "      <td>53</td>\n",
       "      <td>51</td>\n",
       "      <td>45</td>\n",
       "      <td>56</td>\n",
       "      <td>58</td>\n",
       "    </tr>\n",
       "    <tr>\n",
       "      <th>2</th>\n",
       "      <td>69</td>\n",
       "      <td>66</td>\n",
       "      <td>55</td>\n",
       "      <td>51</td>\n",
       "      <td>38</td>\n",
       "      <td>63</td>\n",
       "      <td>59</td>\n",
       "      <td>51</td>\n",
       "      <td>62</td>\n",
       "      <td>43</td>\n",
       "    </tr>\n",
       "    <tr>\n",
       "      <th>3</th>\n",
       "      <td>62</td>\n",
       "      <td>52</td>\n",
       "      <td>44</td>\n",
       "      <td>39</td>\n",
       "      <td>49</td>\n",
       "      <td>58</td>\n",
       "      <td>56</td>\n",
       "      <td>47</td>\n",
       "      <td>37</td>\n",
       "      <td>49</td>\n",
       "    </tr>\n",
       "    <tr>\n",
       "      <th>4</th>\n",
       "      <td>46</td>\n",
       "      <td>54</td>\n",
       "      <td>48</td>\n",
       "      <td>67</td>\n",
       "      <td>55</td>\n",
       "      <td>42</td>\n",
       "      <td>53</td>\n",
       "      <td>64</td>\n",
       "      <td>53</td>\n",
       "      <td>57</td>\n",
       "    </tr>\n",
       "    <tr>\n",
       "      <th>5</th>\n",
       "      <td>71</td>\n",
       "      <td>51</td>\n",
       "      <td>44</td>\n",
       "      <td>47</td>\n",
       "      <td>48</td>\n",
       "      <td>51</td>\n",
       "      <td>48</td>\n",
       "      <td>61</td>\n",
       "      <td>51</td>\n",
       "      <td>58</td>\n",
       "    </tr>\n",
       "    <tr>\n",
       "      <th>6</th>\n",
       "      <td>66</td>\n",
       "      <td>61</td>\n",
       "      <td>65</td>\n",
       "      <td>48</td>\n",
       "      <td>53</td>\n",
       "      <td>46</td>\n",
       "      <td>50</td>\n",
       "      <td>55</td>\n",
       "      <td>50</td>\n",
       "      <td>51</td>\n",
       "    </tr>\n",
       "    <tr>\n",
       "      <th>7</th>\n",
       "      <td>48</td>\n",
       "      <td>54</td>\n",
       "      <td>64</td>\n",
       "      <td>49</td>\n",
       "      <td>40</td>\n",
       "      <td>45</td>\n",
       "      <td>65</td>\n",
       "      <td>54</td>\n",
       "      <td>56</td>\n",
       "      <td>56</td>\n",
       "    </tr>\n",
       "    <tr>\n",
       "      <th>8</th>\n",
       "      <td>52</td>\n",
       "      <td>51</td>\n",
       "      <td>55</td>\n",
       "      <td>53</td>\n",
       "      <td>45</td>\n",
       "      <td>45</td>\n",
       "      <td>50</td>\n",
       "      <td>56</td>\n",
       "      <td>50</td>\n",
       "      <td>37</td>\n",
       "    </tr>\n",
       "    <tr>\n",
       "      <th>9</th>\n",
       "      <td>56</td>\n",
       "      <td>65</td>\n",
       "      <td>56</td>\n",
       "      <td>57</td>\n",
       "      <td>53</td>\n",
       "      <td>50</td>\n",
       "      <td>57</td>\n",
       "      <td>44</td>\n",
       "      <td>46</td>\n",
       "      <td>55</td>\n",
       "    </tr>\n",
       "  </tbody>\n",
       "</table>\n",
       "</div>"
      ],
      "text/plain": [
       "    1   2   3   4   5   6   7   8   9  10\n",
       "0  53  51  48  58  41  47  47  48  39  49\n",
       "1  41  53  56  44  57  53  51  45  56  58\n",
       "2  69  66  55  51  38  63  59  51  62  43\n",
       "3  62  52  44  39  49  58  56  47  37  49\n",
       "4  46  54  48  67  55  42  53  64  53  57\n",
       "5  71  51  44  47  48  51  48  61  51  58\n",
       "6  66  61  65  48  53  46  50  55  50  51\n",
       "7  48  54  64  49  40  45  65  54  56  56\n",
       "8  52  51  55  53  45  45  50  56  50  37\n",
       "9  56  65  56  57  53  50  57  44  46  55"
      ]
     },
     "execution_count": 16,
     "metadata": {},
     "output_type": "execute_result"
    }
   ],
   "source": [
    "data40 = pd.read_csv(\"40s.csv\")\n",
    "data40"
   ]
  },
  {
   "cell_type": "code",
   "execution_count": 45,
   "id": "6eee6de1",
   "metadata": {},
   "outputs": [
    {
     "data": {
      "text/plain": [
       "array([[53, 51, 48, 58, 41, 47, 47, 48, 39, 49],\n",
       "       [41, 53, 56, 44, 57, 53, 51, 45, 56, 58],\n",
       "       [69, 66, 55, 51, 38, 63, 59, 51, 62, 43],\n",
       "       [62, 52, 44, 39, 49, 58, 56, 47, 37, 49],\n",
       "       [46, 54, 48, 67, 55, 42, 53, 64, 53, 57],\n",
       "       [71, 51, 44, 47, 48, 51, 48, 61, 51, 58],\n",
       "       [66, 61, 65, 48, 53, 46, 50, 55, 50, 51],\n",
       "       [48, 54, 64, 49, 40, 45, 65, 54, 56, 56],\n",
       "       [52, 51, 55, 53, 45, 45, 50, 56, 50, 37],\n",
       "       [56, 65, 56, 57, 53, 50, 57, 44, 46, 55]], dtype=int64)"
      ]
     },
     "execution_count": 45,
     "metadata": {},
     "output_type": "execute_result"
    }
   ],
   "source": [
    "data40_np = data40.to_numpy()\n",
    "data40_np"
   ]
  },
  {
   "cell_type": "code",
   "execution_count": 38,
   "id": "06afa235",
   "metadata": {},
   "outputs": [
    {
     "data": {
      "text/plain": [
       "10"
      ]
     },
     "execution_count": 38,
     "metadata": {},
     "output_type": "execute_result"
    }
   ],
   "source": [
    "len(data40_np)"
   ]
  },
  {
   "cell_type": "code",
   "execution_count": 67,
   "id": "694d6923",
   "metadata": {},
   "outputs": [
    {
     "name": "stdout",
     "output_type": "stream",
     "text": [
      "100\n"
     ]
    },
    {
     "data": {
      "text/plain": [
       "[53,\n",
       " 51,\n",
       " 48,\n",
       " 58,\n",
       " 41,\n",
       " 47,\n",
       " 47,\n",
       " 48,\n",
       " 39,\n",
       " 49,\n",
       " 41,\n",
       " 53,\n",
       " 56,\n",
       " 44,\n",
       " 57,\n",
       " 53,\n",
       " 51,\n",
       " 45,\n",
       " 56,\n",
       " 58,\n",
       " 69,\n",
       " 66,\n",
       " 55,\n",
       " 51,\n",
       " 38,\n",
       " 63,\n",
       " 59,\n",
       " 51,\n",
       " 62,\n",
       " 43,\n",
       " 62,\n",
       " 52,\n",
       " 44,\n",
       " 39,\n",
       " 49,\n",
       " 58,\n",
       " 56,\n",
       " 47,\n",
       " 37,\n",
       " 49,\n",
       " 46,\n",
       " 54,\n",
       " 48,\n",
       " 67,\n",
       " 55,\n",
       " 42,\n",
       " 53,\n",
       " 64,\n",
       " 53,\n",
       " 57,\n",
       " 71,\n",
       " 51,\n",
       " 44,\n",
       " 47,\n",
       " 48,\n",
       " 51,\n",
       " 48,\n",
       " 61,\n",
       " 51,\n",
       " 58,\n",
       " 66,\n",
       " 61,\n",
       " 65,\n",
       " 48,\n",
       " 53,\n",
       " 46,\n",
       " 50,\n",
       " 55,\n",
       " 50,\n",
       " 51,\n",
       " 48,\n",
       " 54,\n",
       " 64,\n",
       " 49,\n",
       " 40,\n",
       " 45,\n",
       " 65,\n",
       " 54,\n",
       " 56,\n",
       " 56,\n",
       " 52,\n",
       " 51,\n",
       " 55,\n",
       " 53,\n",
       " 45,\n",
       " 45,\n",
       " 50,\n",
       " 56,\n",
       " 50,\n",
       " 37,\n",
       " 56,\n",
       " 65,\n",
       " 56,\n",
       " 57,\n",
       " 53,\n",
       " 50,\n",
       " 57,\n",
       " 44,\n",
       " 46,\n",
       " 55]"
      ]
     },
     "execution_count": 67,
     "metadata": {},
     "output_type": "execute_result"
    }
   ],
   "source": [
    "n40 = 0\n",
    "values40 = set()\n",
    "all40 = []\n",
    "pairs40 = []\n",
    "for i in range(len(data40_np)):\n",
    "    for j in range(len(data40_np[i])):\n",
    "        n40+=1\n",
    "        values40.add(data40_np[i][j])\n",
    "        all40.append(data40_np[i][j])        \n",
    "print(len(all40))\n",
    "N_2 = 0\n",
    "for i in values40:\n",
    "    N_2 += all40.count(i)\n",
    "for i in values40:\n",
    "    pairs40.append([i, all40.count(i) / N_2])\n",
    "# for i in values40:\n",
    "#     print(i, all40.count(i))\n",
    "# pairs40\n",
    "all40"
   ]
  },
  {
   "cell_type": "code",
   "execution_count": 25,
   "id": "fe9cfdeb",
   "metadata": {},
   "outputs": [
    {
     "data": {
      "text/plain": [
       "7.357791788301704"
      ]
     },
     "execution_count": 25,
     "metadata": {},
     "output_type": "execute_result"
    }
   ],
   "source": [
    "sigma_sep(all40, 52.230)"
   ]
  },
  {
   "cell_type": "code",
   "execution_count": 85,
   "id": "f6cbe43a",
   "metadata": {},
   "outputs": [],
   "source": [
    "def histogram(data, n_bins, cumulative=False, x_label = \"\", y_label = \"\", title = \"\"):\n",
    "    _, ax = plt.subplots()\n",
    "    ax.hist(data, n_bins = n_bins, cumulative = cumulative, color = '#539caf')\n",
    "    ax.set_ylabel(y_label)\n",
    "    ax.set_xlabel(x_label)\n",
    "    ax.set_title(title)"
   ]
  },
  {
   "cell_type": "code",
   "execution_count": 123,
   "id": "6cef004a",
   "metadata": {},
   "outputs": [],
   "source": [
    "# Overlay 2 histograms to compare them\n",
    "def overlaid_histogram(data1, data2, n_bins = 0, data1_name=\"\", data1_color=\"#539caf\", data2_name=\"\", data2_color=\"#7663b0\", x_label=\"\", y_label=\"\", title=\"\"):\n",
    "    # Set the bounds for the bins so that the two distributions are fairly compared\n",
    "    max_nbins = 35\n",
    "    data_range = [min(min(data1), min(data2)), max(max(data1), max(data2))]\n",
    "    binwidth = (data_range[1] - data_range[0]) / max_nbins\n",
    "\n",
    "\n",
    "    if n_bins == 0:\n",
    "    \tbins = np.arange(data_range[0], data_range[1] + binwidth, binwidth)\n",
    "    else: \n",
    "    \tbins = n_bins\n",
    "\n",
    "    # Create the plot\n",
    "    fig, ax = plt.subplots(sharex=False)\n",
    "    ax.hist(data1, bins = 35, density=True, color = data1_color, alpha = 1, label = data1_name)\n",
    "    ax.hist(data2, bins = 28, density=True, color = data2_color, alpha = 0.75, label = data2_name)\n",
    "    ax.set_ylabel(y_label)\n",
    "    ax.set_xlabel(x_label)\n",
    "    ax.set_title(title)\n",
    "    ax.legend(loc = 'best')"
   ]
  },
  {
   "cell_type": "code",
   "execution_count": 124,
   "id": "de443c7a",
   "metadata": {},
   "outputs": [
    {
     "data": {
      "image/png": "[encoded data removed]",
      "text/plain": [
       "<Figure size 640x480 with 1 Axes>"
      ]
     },
     "metadata": {},
     "output_type": "display_data"
    }
   ],
   "source": [
    "overlaid_histogram(x, y, data1_name=\"40s\", data2_name=\"20s\")\n",
    "plt.show()"
   ]
  },
  {
   "cell_type": "code",
   "execution_count": 108,
   "id": "4e309297",
   "metadata": {
    "scrolled": true
   },
   "outputs": [
    {
     "data": {
      "image/png": "[encoded data removed]",
      "text/plain": [
       "<Figure size 640x480 with 1 Axes>"
      ]
     },
     "metadata": {},
     "output_type": "display_data"
    },
    {
     "data": {
      "image/png": "[encoded data removed]",
      "text/plain": [
       "<Figure size 640x480 with 1 Axes>"
      ]
     },
     "metadata": {},
     "output_type": "display_data"
    },
    {
     "data": {
      "text/plain": [
       "<matplotlib.legend.Legend at 0x25fa5fd7dd0>"
      ]
     },
     "execution_count": 108,
     "metadata": {},
     "output_type": "execute_result"
    },
    {
     "data": {
      "image/png": "[encoded data removed]",
      "text/plain": [
       "<Figure size 640x480 with 1 Axes>"
      ]
     },
     "metadata": {},
     "output_type": "display_data"
    }
   ],
   "source": [
    "x = all40\n",
    "# the histogram of the data\n",
    "plt.hist(x, 35, density=True, facecolor='b')\n",
    "\n",
    "plt.xlabel('Число импульсов $n$')\n",
    "plt.ylabel('$\\omega_n$')\n",
    "# plt.text(160, .010, r'$t = 20 \\ c$', color='red')\n",
    "# plt.text(40, .010, r'$t = 40 \\ c$', color='blue')\n",
    "#plt.text(50, .033, r'$h(vodorod)$', fontsize=20, color='red')\n",
    "# plt.axis([30, 70, 0, 0.10])\n",
    "# plt.axis([5, 45, 0, 0.10])\n",
    "plt.show()\n",
    "\n",
    "y = all\n",
    "plt.hist(y, 28, density=True, facecolor='black')\n",
    "plt.xlabel('Число импульсов $n$')\n",
    "plt.ylabel('$\\omega_n$')\n",
    "plt.show()\n",
    "\n"
   ]
  },
  {
   "cell_type": "code",
   "execution_count": 84,
   "id": "62d367a8",
   "metadata": {},
   "outputs": [
    {
     "data": {
      "image/png": "[encoded data removed]",
      "text/plain": [
       "<Figure size 640x480 with 1 Axes>"
      ]
     },
     "metadata": {},
     "output_type": "display_data"
    }
   ],
   "source": [
    "y = all\n",
    "plt.hist(y, 28, density=True, facecolor='black')\n",
    "plt.xlabel('Число импульсов $n$')\n",
    "plt.ylabel('$\\omega_n$')\n",
    "plt.show()"
   ]
  },
  {
   "cell_type": "code",
   "execution_count": 109,
   "id": "c30a407b",
   "metadata": {},
   "outputs": [
    {
     "data": {
      "text/plain": [
       "<matplotlib.legend.Legend at 0x25fa649c610>"
      ]
     },
     "execution_count": 109,
     "metadata": {},
     "output_type": "execute_result"
    },
    {
     "data": {
      "image/png": "[encoded data removed]",
      "text/plain": [
       "<Figure size 640x480 with 1 Axes>"
      ]
     },
     "metadata": {},
     "output_type": "display_data"
    }
   ],
   "source": [
    "x_label=\"\"\n",
    "y_label=\"\"\n",
    "title=\"\"\n",
    "_, ax = plt.subplots()\n",
    "ax.hist(x, bins = 35, density=True, color = \"#539caf\", alpha = 1, label = \"40s\")\n",
    "ax.set_xlabel(x_label)\n",
    "ax.set_title(title)\n",
    "ax.legend(loc = 'best')"
   ]
  },
  {
   "cell_type": "code",
   "execution_count": 125,
   "id": "857d02bd",
   "metadata": {},
   "outputs": [
    {
     "data": {
      "text/plain": [
       "<matplotlib.legend.Legend at 0x25fa73f4610>"
      ]
     },
     "execution_count": 125,
     "metadata": {},
     "output_type": "execute_result"
    },
    {
     "data": {
      "image/png": "[encoded data removed]",
      "text/plain": [
       "<Figure size 640x480 with 2 Axes>"
      ]
     },
     "metadata": {},
     "output_type": "display_data"
    }
   ],
   "source": [
    "fig1, ax1 = plt.subplots(sharex=False)\n",
    "ax2 = ax1.twinx()\n",
    "ax2.hist(x, bins = 35, density=True, color = \"#539caf\", alpha = 1, label = \"40s\")\n",
    "ax1.hist(y, bins = 28, density=True, color = \"#7663b0\", alpha = 0.75, label = \"20s\")\n",
    "ax1.set_ylabel(y_label)\n",
    "ax1.set_title(title)\n",
    "ax1.legend(loc = 'best')\n"
   ]
  },
  {
   "cell_type": "code",
   "execution_count": null,
   "id": "f7415f93",
   "metadata": {},
   "outputs": [],
   "source": []
  },
  {
   "cell_type": "code",
   "execution_count": null,
   "id": "32fee627",
   "metadata": {},
   "outputs": [],
   "source": []
  },
  {
   "cell_type": "code",
   "execution_count": null,
   "id": "fa607c36",
   "metadata": {},
   "outputs": [],
   "source": []
  },
  {
   "cell_type": "code",
   "execution_count": null,
   "id": "f2081d46",
   "metadata": {},
   "outputs": [],
   "source": []
  },
  {
   "cell_type": "code",
   "execution_count": null,
   "id": "cc41b2ad",
   "metadata": {},
   "outputs": [],
   "source": []
  },
  {
   "cell_type": "code",
   "execution_count": 6,
   "id": "c9cacabc",
   "metadata": {},
   "outputs": [
    {
     "name": "stdout",
     "output_type": "stream",
     "text": [
      "l = 20cm, U=(0.16815514161775955 ± 0.36) I + (22.71115080377647 ± 9.7)\n",
      "l = 30cm, U=(0.03694395576778157 ± 0.68) I + (27.16913797436539 ± 1.8e+01)\n",
      "l = 50cm, U=(-0.2375478927203061 ± 0.8) I + (32.03256704980842 ± 2.2e+01)\n",
      "[[ 0.16815514 22.7111508 ]\n",
      " [ 0.03694396 27.16913797]\n",
      " [-0.23754789 32.03256705]]\n"
     ]
    },
    {
     "data": {
      "image/png": "[encoded data removed]",
      "text/plain": [
       "<Figure size 1280x960 with 1 Axes>"
      ]
     },
     "metadata": {},
     "output_type": "display_data"
    }
   ],
   "source": [
    "plt.figure(figsize=(8, 6), dpi=160)\n",
    "plt.grid(True)\n",
    "plt.title(r\"$U(I)$\")\n",
    "plt.xlabel(r\"$I, мА$\", fontsize=10)\n",
    "plt.ylabel(r\"$U, мВ$\", fontsize=10)\n",
    "\n",
    "\n",
    "l = [20, 30, 50]\n",
    "styles = ['-', '--', '-.']\n",
    "eps_x = 0.2 / 100\n",
    "eps_y = 0.2 / 100\n",
    "\n",
    "coeff_matrix = np.empty((3, 2), dtype=float)\n",
    "plot_list = [None] * 3\n",
    "\n",
    "for i in range(3):\n",
    "    X = data_np[:, 2*i + 1]\n",
    "    Y = data_np[:, 2*i]\n",
    "    X = X[~np.isnan(X)]\n",
    "    Y = Y[~np.isnan(Y)]\n",
    "    \n",
    "    X_err = eps_x * X\n",
    "    Y_err = np.sqrt((eps_y * Y) ** 2 + 4 ** 2)\n",
    "    plt.errorbar(X, Y, xerr=X_err, yerr=Y_err, linestyle='',\n",
    "                                 ecolor='black', elinewidth=1, zorder=32)\n",
    "    \n",
    "    a, b = np.polyfit(X, Y, deg=1)\n",
    "    coeff_matrix[i, 0] = a\n",
    "    coeff_matrix[i, 1] = b\n",
    "    \n",
    "    S_x = np.std(X)\n",
    "    S_y = np.std(Y)\n",
    "    N = len(X)\n",
    "#     R_xy = np.sum(X*Y) / len(X) - np.mean(X) * np.mean(Y)\n",
    "    err_a = 2 * np.sqrt((S_y ** 2 / S_x ** 2 - a ** 2) / (N - 2))\n",
    "    err_b = err_a * np.sqrt(S_x ** 2 + np.mean(X) ** 2)\n",
    "    plot_list[i], = plt.plot([-10, (600 - b) / a], [b - 10*a, 600], linewidth=1, alpha=0.5, color='black',\n",
    "                             linestyle=styles[i], label=f\"$l={l[i]}см$\")\n",
    "    print(f\"l = {l[i]}cm, U=({a} ± {err_a:.2}) I + ({b} ± {err_b:.2})\")\n",
    "line_labels = [r\"$L=20см, U=(2.102\\pm0.008)\\Omega I + (-1\\pm1)мВ$\",\n",
    "               r\"$L=30см, U=(3.199\\pm0.011)\\Omega I + (-2\\pm1)мВ$\",\n",
    "               r\"$L=50см, U=(5.357\\pm0.031)\\Omega I + (-2\\pm2)мВ$\"]\n",
    "plt.legend(handles=plot_list, loc=4, labels=line_labels, fontsize=13)\n",
    "print(coeff_matrix)\n",
    "plt.savefig('../pictures/grafik.png')\n",
    "plt.show()"
   ]
  },
  {
   "cell_type": "code",
   "execution_count": null,
   "id": "c5b182b0",
   "metadata": {},
   "outputs": [],
   "source": [
    "S = 0.097 * 10 ** -2\n",
    "dS = 0.003 * 10 ** -2\n",
    "l = np.array([20, 30, 50])\n",
    "dl = 0.2\n",
    "R = np.array([2.2949, 3.3843, 5.4173])\n",
    "dR = 0.01\n",
    "ro = R * S / l\n",
    "dro = ro * np.sqrt((dR/R) ** 2 + (dS/S) ** 2 + (dl/l) ** 2)\n",
    "ro, dro"
   ]
  }
 ],
 "metadata": {
  "kernelspec": {
   "display_name": "Python 3 (ipykernel)",
   "language": "python",
   "name": "python3"
  },
  "language_info": {
   "codemirror_mode": {
    "name": "ipython",
    "version": 3
   },
   "file_extension": ".py",
   "mimetype": "text/x-python",
   "name": "python",
   "nbconvert_exporter": "python",
   "pygments_lexer": "ipython3",
   "version": "3.11.0"
  }
 },
 "nbformat": 4,
 "nbformat_minor": 5
}
