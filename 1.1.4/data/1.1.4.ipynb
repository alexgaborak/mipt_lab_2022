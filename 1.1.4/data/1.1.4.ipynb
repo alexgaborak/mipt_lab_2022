{
 "cells": [
  {
   "cell_type": "code",
   "execution_count": null,
   "id": "c44e6695",
   "metadata": {},
   "outputs": [],
   "source": [
    "import numpy as np\n",
    "import pandas as pd\n",
    "import matplotlib.pyplot as plt"
   ]
  },
  {
   "cell_type": "code",
   "execution_count": null,
   "id": "cbeced5e",
   "metadata": {},
   "outputs": [],
   "source": [
    "d_stangen = 0.35\n",
    "err_d_stangen = 0.025\n",
    "\n",
    "d_micro_series = pd.Series([0.35] * 10 + [0.36] * 5 + [0.34] * 2)\n",
    "d_micro = d_micro_series.mean()\n",
    "\n",
    "err_d_micro_sist = 0.005\n",
    "err_d_micro_rand = d_micro.std() / np.sqrt(len(d_micro_series))\n",
    "err_d_micro = np.sqrt(err_d_micro_sist**2 + err_d_micro_rand**2)\n",
    "\n",
    "s_stangen = np.pi * d_stangen ** 2 / 4\n",
    "s_micro = np.pi * d_micro ** 2 / 4\n",
    "\n",
    "err_s_stangen = 2 * s_stangen * err_d_stangen / d_stangen\n",
    "err_s_micro = 2 * s_micro * err_d_micro / d_micro\n",
    "\n",
    "print(f\"d_stangen = {d_stangen} ± {err_d_stangen} mm\")\n",
    "print(f\"d_micro = {d_micro:.3} ± {err_d_micro} mm\")\n",
    "print(\"-\"*30)\n",
    "print(f\"s_stangen = {s_stangen:.2} ± {err_s_stangen:.1} mm^2\")\n",
    "print(f\"s_micro = {s_micro:.2} ± {err_s_micro:.1} mm^2\")"
   ]
  },
  {
   "cell_type": "code",
   "execution_count": null,
   "id": "19ecff2e",
   "metadata": {},
   "outputs": [],
   "source": [
    "#cols = pd.MultiIndex.from_product([[20, 30, 50, 60, 70], ['U', 'I']], names=['1', '2'])\n",
    "data = pd.read_csv(\"data.csv\")\n",
    "#cols"
   ]
  },
  {
   "cell_type": "code",
   "execution_count": null,
   "id": "371e2212",
   "metadata": {},
   "outputs": [],
   "source": [
    "data"
   ]
  },
  {
   "cell_type": "code",
   "execution_count": null,
   "id": "0978cb3d",
   "metadata": {},
   "outputs": [],
   "source": [
    "#data.columns=cols\n",
    "data.index = np.arange(0, 200, 10)\n",
    "#data.loc[8, (50, 'U')] = 388\n",
    "data"
   ]
  },
  {
   "cell_type": "code",
   "execution_count": null,
   "id": "44ab8bfd",
   "metadata": {},
   "outputs": [],
   "source": [
    "data_np = data.to_numpy()\n",
    "data_np"
   ]
  },
  {
   "cell_type": "code",
   "execution_count": null,
   "id": "c9cacabc",
   "metadata": {},
   "outputs": [],
   "source": [
    "plt.figure(figsize=(8, 6), dpi=160)\n",
    "plt.grid(True)\n",
    "plt.title(r\"$U(I)$\")\n",
    "plt.xlabel(r\"$I, мА$\", fontsize=10)\n",
    "plt.ylabel(r\"$U, мВ$\", fontsize=10)\n",
    "\n",
    "\n",
    "l = [20, 30, 50]\n",
    "styles = ['-', '--', '-.']\n",
    "eps_x = 0.2 / 100\n",
    "eps_y = 0.2 / 100\n",
    "\n",
    "coeff_matrix = np.empty((3, 2), dtype=float)\n",
    "plot_list = [None] * 3\n",
    "\n",
    "for i in range(3):\n",
    "    X = data_np[:, 2*i + 1]\n",
    "    Y = data_np[:, 2*i]\n",
    "    X = X[~np.isnan(X)]\n",
    "    Y = Y[~np.isnan(Y)]\n",
    "    \n",
    "    X_err = eps_x * X\n",
    "    Y_err = np.sqrt((eps_y * Y) ** 2 + 4 ** 2)\n",
    "    plt.errorbar(X, Y, xerr=X_err, yerr=Y_err, linestyle='',\n",
    "                                 ecolor='black', elinewidth=1, zorder=32)\n",
    "    \n",
    "    a, b = np.polyfit(X, Y, deg=1)\n",
    "    coeff_matrix[i, 0] = a\n",
    "    coeff_matrix[i, 1] = b\n",
    "    \n",
    "    S_x = np.std(X)\n",
    "    S_y = np.std(Y)\n",
    "    N = len(X)\n",
    "#     R_xy = np.sum(X*Y) / len(X) - np.mean(X) * np.mean(Y)\n",
    "    err_a = 2 * np.sqrt((S_y ** 2 / S_x ** 2 - a ** 2) / (N - 2))\n",
    "    err_b = err_a * np.sqrt(S_x ** 2 + np.mean(X) ** 2)\n",
    "    plot_list[i], = plt.plot([-10, (600 - b) / a], [b - 10*a, 600], linewidth=1, alpha=0.5, color='black',\n",
    "                             linestyle=styles[i], label=f\"$l={l[i]}см$\")\n",
    "    print(f\"l = {l[i]}cm, U=({a} ± {err_a:.2}) I + ({b} ± {err_b:.2})\")\n",
    "line_labels = [r\"$L=20см, U=(2.102\\pm0.008)\\Omega I + (-1\\pm1)мВ$\",\n",
    "               r\"$L=30см, U=(3.199\\pm0.011)\\Omega I + (-2\\pm1)мВ$\",\n",
    "               r\"$L=50см, U=(5.357\\pm0.031)\\Omega I + (-2\\pm2)мВ$\"]\n",
    "plt.legend(handles=plot_list, loc=4, labels=line_labels, fontsize=13)\n",
    "print(coeff_matrix)\n",
    "plt.savefig('../pictures/grafik.png')\n",
    "plt.show()"
   ]
  },
  {
   "cell_type": "code",
   "execution_count": null,
   "id": "c5b182b0",
   "metadata": {},
   "outputs": [],
   "source": [
    "S = 0.097 * 10 ** -2\n",
    "dS = 0.003 * 10 ** -2\n",
    "l = np.array([20, 30, 50])\n",
    "dl = 0.2\n",
    "R = np.array([2.2949, 3.3843, 5.4173])\n",
    "dR = 0.01\n",
    "ro = R * S / l\n",
    "dro = ro * np.sqrt((dR/R) ** 2 + (dS/S) ** 2 + (dl/l) ** 2)\n",
    "ro, dro"
   ]
  }
 ],
 "metadata": {
  "kernelspec": {
   "display_name": "Python 3 (ipykernel)",
   "language": "python",
   "name": "python3"
  },
  "language_info": {
   "codemirror_mode": {
    "name": "ipython",
    "version": 3
   },
   "file_extension": ".py",
   "mimetype": "text/x-python",
   "name": "python",
   "nbconvert_exporter": "python",
   "pygments_lexer": "ipython3",
   "version": "3.11.0"
  }
 },
 "nbformat": 4,
 "nbformat_minor": 5
}
